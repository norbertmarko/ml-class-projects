{
 "cells": [
  {
   "cell_type": "code",
   "execution_count": null,
   "metadata": {},
   "outputs": [],
   "source": []
  }
 ],
 "metadata": {
  "interpreter": {
   "hash": "f82077b91799fdb3e6097bd78dd267c771e616ee107d95c0c6bc18589b6b1181"
  },
  "kernelspec": {
   "display_name": "Python 3.8.10 ('ml-class-projects')",
   "language": "python",
   "name": "python3"
  },
  "language_info": {
   "name": "python",
   "version": "3.8.10"
  },
  "orig_nbformat": 4
 },
 "nbformat": 4,
 "nbformat_minor": 2
}
