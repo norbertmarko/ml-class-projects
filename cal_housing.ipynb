{
 "cells": [
  {
   "cell_type": "code",
   "execution_count": 2,
   "metadata": {},
   "outputs": [],
   "source": [
    "import pandas as pd\n",
    "from pathlib import Path"
   ]
  },
  {
   "cell_type": "code",
   "execution_count": null,
   "metadata": {},
   "outputs": [],
   "source": [
    "def load_csv_data(file_path: str):\n",
    "    \"\"\"\n",
    "    This function loads CSV data using\n",
    "    the pandas library.\n",
    "\n",
    "    ARGUMENTS\n",
    "    ---------\n",
    "        file_path (str):\n",
    "            The `.csv` file destination path. \n",
    "\n",
    "    RETURNS\n",
    "    -------\n",
    "        Pandas DataFrame object containing all the data.\n",
    "    \"\"\"\n",
    "    Path(path)\n",
    "\n",
    "def load_housing_data (housing_path =HOUSING_PATH ): csv_path = os.path .join (housing_path , \"housing.csv\" ) return pd.read_csv (csv_path )"
   ]
  }
 ],
 "metadata": {
  "interpreter": {
   "hash": "f82077b91799fdb3e6097bd78dd267c771e616ee107d95c0c6bc18589b6b1181"
  },
  "kernelspec": {
   "display_name": "Python 3.8.10 ('ml-class-projects')",
   "language": "python",
   "name": "python3"
  },
  "language_info": {
   "codemirror_mode": {
    "name": "ipython",
    "version": 3
   },
   "file_extension": ".py",
   "mimetype": "text/x-python",
   "name": "python",
   "nbconvert_exporter": "python",
   "pygments_lexer": "ipython3",
   "version": "3.8.10"
  },
  "orig_nbformat": 4
 },
 "nbformat": 4,
 "nbformat_minor": 2
}
